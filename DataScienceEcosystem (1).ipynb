{
 "cells": [
  {
   "cell_type": "markdown",
   "id": "f56f8880-24de-4e8a-b853-53b9f69aad5e",
   "metadata": {},
   "source": [
    "# Data Science Tools and Ecosystem"
   ]
  },
  {
   "cell_type": "markdown",
   "id": "9506418f-e71f-4d6c-a86d-68b8b07889e0",
   "metadata": {},
   "source": [
    "## In this notebook, Data Science Tools and Ecosystem are summarized"
   ]
  },
  {
   "cell_type": "markdown",
   "id": "a5064c74-1231-4a03-af8f-88ad66b6154e",
   "metadata": {},
   "source": [
    "## Objectives:\n",
    "- List popular languages for Data Science\n",
    "- List commonly used libraries used by Data Scientists\n",
    "- Share examples of arithmetic expressions"
   ]
  },
  {
   "cell_type": "markdown",
   "id": "e12561a0-88b8-4379-84db-c03aadf848e0",
   "metadata": {},
   "source": [
    "## Some of the popular languages that Data scientists use are:\n",
    "1. Python\n",
    "2. R\n",
    "3. Julia"
   ]
  },
  {
   "cell_type": "markdown",
   "id": "eeb8f82b-41b8-4ba0-a257-b09d6e932525",
   "metadata": {},
   "source": [
    "## Some of the commonly used libraries used by Data Scientists include\n",
    "1. Pandas\n",
    "2. NumPy\n",
    "3. ggplot\n",
    "\n"
   ]
  },
  {
   "cell_type": "markdown",
   "id": "d5b89680-78cd-4b19-8bf1-bd3e958ce7a8",
   "metadata": {},
   "source": [
    "|Data Science Tools|\n",
    "|---|\n",
    "|Jupyter Notebooks|\n",
    "|Zeppelin Notebooks|\n",
    "|Google Colab|"
   ]
  },
  {
   "cell_type": "markdown",
   "id": "3f51880f-5869-452a-9029-33a1ba391c0d",
   "metadata": {},
   "source": [
    "### Below are a few examples of evaluating arithmetic expressions in Python\n"
   ]
  },
  {
   "cell_type": "code",
   "execution_count": 10,
   "id": "5c549fe2-e619-47d0-8343-67ef7fa07b1e",
   "metadata": {},
   "outputs": [
    {
     "data": {
      "text/plain": [
       "17"
      ]
     },
     "execution_count": 10,
     "metadata": {},
     "output_type": "execute_result"
    }
   ],
   "source": [
    "# This is a simple arithmetic expression to mutiply then add integers\n",
    "(3*4)+5"
   ]
  },
  {
   "cell_type": "code",
   "execution_count": 12,
   "id": "212f0781-094a-4c7e-9bea-d43d51fa9292",
   "metadata": {},
   "outputs": [
    {
     "data": {
      "text/plain": [
       "3.3333333333333335"
      ]
     },
     "execution_count": 12,
     "metadata": {},
     "output_type": "execute_result"
    }
   ],
   "source": [
    "# This will convert 200 minutes to hours \n",
    "200/60"
   ]
  },
  {
   "cell_type": "markdown",
   "id": "189ac1cc-0a15-4b6b-ad8c-424d32d6848b",
   "metadata": {},
   "source": [
    "### Author\n",
    "Sofia Facio Lima"
   ]
  },
  {
   "cell_type": "code",
   "execution_count": null,
   "id": "133a0993-804b-4808-a5f5-a3d46471a2cd",
   "metadata": {},
   "outputs": [],
   "source": []
  }
 ],
 "metadata": {
  "kernelspec": {
   "display_name": "Python 3 (ipykernel)",
   "language": "python",
   "name": "python3"
  },
  "language_info": {
   "codemirror_mode": {
    "name": "ipython",
    "version": 3
   },
   "file_extension": ".py",
   "mimetype": "text/x-python",
   "name": "python",
   "nbconvert_exporter": "python",
   "pygments_lexer": "ipython3",
   "version": "3.12.4"
  }
 },
 "nbformat": 4,
 "nbformat_minor": 5
}
